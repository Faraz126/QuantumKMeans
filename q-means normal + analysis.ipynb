{
  "nbformat": 4,
  "nbformat_minor": 0,
  "metadata": {
    "kernelspec": {
      "display_name": "Python 3",
      "language": "python",
      "name": "python3"
    },
    "language_info": {
      "codemirror_mode": {
        "name": "ipython",
        "version": 3
      },
      "file_extension": ".py",
      "mimetype": "text/x-python",
      "name": "python",
      "nbconvert_exporter": "python",
      "pygments_lexer": "ipython3",
      "version": "3.7.2"
    },
    "colab": {
      "name": "Quantum Computing Project - qmeans",
      "provenance": [],
      "collapsed_sections": []
    },
    "accelerator": "GPU"
  },
  "cells": [
    {
      "cell_type": "code",
      "metadata": {
        "id": "rZyIoIdxk11q"
      },
      "source": [
        "!pip install qiskit"
      ],
      "execution_count": null,
      "outputs": []
    },
    {
      "cell_type": "code",
      "metadata": {
        "id": "PG1hEwj3kmdW"
      },
      "source": [
        "import pandas as pd\n",
        "import numpy as np\n",
        "import matplotlib.pyplot as plt\n",
        "from copy import deepcopy\n",
        "from numpy import pi\n",
        "from qiskit import QuantumRegister, ClassicalRegister\n",
        "from qiskit import QuantumCircuit\n",
        "from qiskit import Aer, execute\n",
        "import random"
      ],
      "execution_count": null,
      "outputs": []
    },
    {
      "cell_type": "markdown",
      "metadata": {
        "id": "RO3dGJ5R_40T"
      },
      "source": [
        "#Data Preparation"
      ]
    },
    {
      "cell_type": "code",
      "metadata": {
        "id": "tbpP1TYQ__tk"
      },
      "source": [
        "import random\n",
        "def create_normal_dist(rows, features, min = -1, max = 1, clusters = 3):\n",
        "  diff = abs(max - min)\n",
        "  step = diff / (clusters - 1)\n",
        "  means = []\n",
        "  points = np.zeros((((rows//clusters) + 1) * clusters, features))\n",
        "  added = 0\n",
        "  for i in range(clusters):\n",
        "    c_mean = min + (step * i)\n",
        "    print(c_mean, (rows//clusters) + 1)\n",
        "    for j in range(features):\n",
        "        points[added: added + (rows//clusters) + 1, j] = np.random.normal(loc = c_mean, scale = step//3, size = (rows//clusters) + 1)\n",
        "    added = added + (rows//clusters) + 1\n",
        "    print(added)\n",
        "  random.shuffle(points)\n",
        "  return np.array(points[:rows])"
      ],
      "execution_count": null,
      "outputs": []
    },
    {
      "cell_type": "markdown",
      "metadata": {
        "id": "xt7bI2wfx0p9"
      },
      "source": [
        "#Clsutering (Normal Data)"
      ]
    },
    {
      "cell_type": "markdown",
      "metadata": {
        "id": "KBGifub4yeqX"
      },
      "source": [
        "###qmeans"
      ]
    },
    {
      "cell_type": "code",
      "metadata": {
        "colab": {
          "base_uri": "https://localhost:8080/"
        },
        "id": "lcRQHJegkmdj",
        "outputId": "3902eece-3653-44bd-cf27-fe98baa4bda6"
      },
      "source": [
        "rows, col = 300, 2\n",
        "minval, maxval = -100, 100\n",
        "data = create_normal_dist(rows, col, minval, maxval)"
      ],
      "execution_count": null,
      "outputs": [
        {
          "output_type": "stream",
          "text": [
            "-100.0 101\n",
            "101\n",
            "0.0 101\n",
            "202\n",
            "100.0 101\n",
            "303\n",
            "[[ -76.97738125  -87.4704555 ]\n",
            " [ -94.91051111  -39.66572002]\n",
            " [ -76.97738125  -87.4704555 ]\n",
            " [-127.83246681 -108.91693604]\n",
            " [ -94.91051111  -39.66572002]\n",
            " [ -76.97738125  -87.4704555 ]\n",
            " [-141.01430334 -116.91213564]\n",
            " [-197.34333454  -83.12621921]\n",
            " [-141.01430334 -116.91213564]\n",
            " [-141.01430334 -116.91213564]\n",
            " [ -71.07807506 -102.95187122]\n",
            " [ -94.91051111  -39.66572002]\n",
            " [ -71.85288263  -87.53724341]\n",
            " [-120.68492797  -60.81910019]\n",
            " [-105.1634986  -147.49810344]\n",
            " [-120.68492797  -60.81910019]\n",
            " [ -71.50993198 -155.16746826]\n",
            " [-120.68492797  -60.81910019]\n",
            " [-101.97414214  -98.20556848]\n",
            " [ -76.97738125  -87.4704555 ]\n",
            " [ -71.50993198 -155.16746826]\n",
            " [-141.01430334 -116.91213564]\n",
            " [-113.43215738  -85.47791987]\n",
            " [ -71.50993198 -155.16746826]\n",
            " [-113.43215738  -85.47791987]\n",
            " [-127.83246681 -108.91693604]\n",
            " [ -62.94280721 -137.19351851]\n",
            " [-175.90140694  -76.66390042]\n",
            " [ -89.3271136  -115.62069624]\n",
            " [ -71.07807506 -102.95187122]\n",
            " [ -71.50993198 -155.16746826]\n",
            " [ -71.07807506 -102.95187122]\n",
            " [ -86.89192825 -112.64853972]\n",
            " [-105.81652756 -138.02877639]\n",
            " [-118.80825514  -93.36064528]\n",
            " [-141.01430334 -116.91213564]\n",
            " [-104.15767303 -140.54465461]\n",
            " [-101.97414214  -98.20556848]\n",
            " [ -71.07807506 -102.95187122]\n",
            " [ -99.75865844 -102.47179208]\n",
            " [-103.56048495  -88.38851286]\n",
            " [ -87.54581515 -121.73928743]\n",
            " [-101.97414214  -98.20556848]\n",
            " [ -71.07807506 -102.95187122]\n",
            " [ -69.53598814 -101.183663  ]\n",
            " [ -68.52228099  -46.41586851]\n",
            " [-175.90140694  -76.66390042]\n",
            " [-105.1634986  -147.49810344]\n",
            " [-116.62256276 -123.29881112]\n",
            " [ -82.1225688   -44.67422118]\n",
            " [-113.43215738  -85.47791987]\n",
            " [-105.81652756 -138.02877639]\n",
            " [ -60.60948695  -83.92309539]\n",
            " [-105.81652756 -138.02877639]\n",
            " [ -46.88601364 -108.5868893 ]\n",
            " [-155.89137623 -113.27127217]\n",
            " [ -77.17741126 -119.22322267]\n",
            " [ -26.05257356  -75.62103482]\n",
            " [ -68.97923774 -133.35517812]\n",
            " [ -87.54581515 -121.73928743]\n",
            " [-113.43215738  -85.47791987]\n",
            " [ -83.22014179  -84.91304432]\n",
            " [-197.34333454  -83.12621921]\n",
            " [ -69.53598814 -101.183663  ]\n",
            " [ -99.75865844 -102.47179208]\n",
            " [-158.36582885  -80.84054735]\n",
            " [ -74.83501837 -161.63378751]\n",
            " [ -68.52228099  -46.41586851]\n",
            " [ -69.53598814 -101.183663  ]\n",
            " [-112.44519202 -105.81174765]\n",
            " [-104.15767303 -140.54465461]\n",
            " [ -43.19305893 -124.12632658]\n",
            " [-155.89137623 -113.27127217]\n",
            " [ -71.50993198 -155.16746826]\n",
            " [ -84.29753331 -107.23415494]\n",
            " [-113.43215738  -85.47791987]\n",
            " [ -83.26024382  -60.11930787]\n",
            " [-121.44367029 -141.16414082]\n",
            " [-136.20537992 -107.55468575]\n",
            " [-143.73153629  -79.53473834]\n",
            " [-197.34333454  -83.12621921]\n",
            " [ -70.40549119 -160.56917134]\n",
            " [-113.43215738  -85.47791987]\n",
            " [-116.62256276 -123.29881112]\n",
            " [ -70.40549119 -160.56917134]\n",
            " [-105.1634986  -147.49810344]\n",
            " [-141.01430334 -116.91213564]\n",
            " [ -62.94280721 -137.19351851]\n",
            " [ -94.82845028 -140.92697899]\n",
            " [-108.8790802  -148.62206214]\n",
            " [-111.26086236 -122.96574221]\n",
            " [ -73.9859965  -102.99181906]\n",
            " [ -46.88601364 -108.5868893 ]\n",
            " [ -94.79520142 -138.44352063]\n",
            " [ -71.07807506 -102.95187122]\n",
            " [-136.20537992 -107.55468575]\n",
            " [ -51.29006684  -96.29211718]\n",
            " [-102.51492506 -105.4413503 ]\n",
            " [ -71.50993198 -155.16746826]\n",
            " [-135.7995815   -86.24978944]\n",
            " [-141.01430334 -116.91213564]\n",
            " [ -36.46441447 -114.58178086]\n",
            " [-144.42406778  -78.76884293]\n",
            " [-127.83246681 -108.91693604]\n",
            " [ -68.46169527 -159.35241569]\n",
            " [-118.80825514  -93.36064528]\n",
            " [ -64.73279557  -80.29466867]\n",
            " [ -89.3271136  -115.62069624]\n",
            " [-121.0145179   -38.1568428 ]\n",
            " [ -64.40961604  -54.07544483]\n",
            " [  -8.99176276   14.45328425]\n",
            " [ -70.40549119 -160.56917134]\n",
            " [-135.29253781  -85.96316243]\n",
            " [ -50.65429281  -75.60813759]\n",
            " [ -83.26024382  -60.11930787]\n",
            " [-120.68492797  -60.81910019]\n",
            " [-109.81814893 -133.94512341]\n",
            " [  19.50315353   32.58703101]\n",
            " [ -68.52228099  -46.41586851]\n",
            " [ -71.85288263  -87.53724341]\n",
            " [ -48.62996316  -96.46049301]\n",
            " [ -62.94280721 -137.19351851]\n",
            " [-121.44367029 -141.16414082]\n",
            " [ -87.54581515 -121.73928743]\n",
            " [-120.84779615 -122.13787666]\n",
            " [  -8.14650313   49.90187543]\n",
            " [  -8.99176276   14.45328425]\n",
            " [ -64.73279557  -80.29466867]\n",
            " [  29.23276028   14.89048173]\n",
            " [  22.19585366  -15.20536977]\n",
            " [ -68.52228099  -46.41586851]\n",
            " [ -69.53598814 -101.183663  ]\n",
            " [ -82.1225688   -44.67422118]\n",
            " [  37.74349305  -24.43663295]\n",
            " [ -90.13796703 -164.91079899]\n",
            " [  36.1481047   -12.3935561 ]\n",
            " [  -2.00483876   57.12993208]\n",
            " [ -86.89192825 -112.64853972]\n",
            " [-139.01175795  -77.8267246 ]\n",
            " [  29.23276028   14.89048173]\n",
            " [ -41.72802697  -23.10560528]\n",
            " [-104.69807465  -72.60829469]\n",
            " [-155.89137623 -113.27127217]\n",
            " [ -86.89192825 -112.64853972]\n",
            " [-116.71545875  -70.86951678]\n",
            " [ -41.03863689  -85.37364738]\n",
            " [ -77.17741126 -119.22322267]\n",
            " [  -8.99176276   14.45328425]\n",
            " [-111.26086236 -122.96574221]\n",
            " [-102.51492506 -105.4413503 ]\n",
            " [ -33.8482001   -16.65647833]\n",
            " [-111.26086236 -122.96574221]\n",
            " [-124.73181528 -144.36662506]\n",
            " [  12.76650003  -57.10357485]\n",
            " [ -41.72802697  -23.10560528]\n",
            " [-117.49046886 -126.27687596]\n",
            " [ -15.18928606  -13.61151857]\n",
            " [   6.61820392   -1.39475196]\n",
            " [-111.26086236 -122.96574221]\n",
            " [-113.43215738  -85.47791987]\n",
            " [-151.48770464 -120.45446641]\n",
            " [-127.83246681 -108.91693604]\n",
            " [-154.8224396   -36.95120431]\n",
            " [-151.48770464 -120.45446641]\n",
            " [ -64.73279557  -80.29466867]\n",
            " [ -71.85288263  -87.53724341]\n",
            " [  49.34349338   18.13110957]\n",
            " [-135.29253781  -85.96316243]\n",
            " [ -83.22014179  -84.91304432]\n",
            " [ -51.55853973  -11.05711608]\n",
            " [-105.44380244 -117.60398738]\n",
            " [ -36.46441447 -114.58178086]\n",
            " [ -62.94280721 -137.19351851]\n",
            " [ -51.55853973  -11.05711608]\n",
            " [  22.19585366  -15.20536977]\n",
            " [-129.793047    -80.64826583]\n",
            " [ -40.45767561 -108.06766851]\n",
            " [ -31.91100939   -0.27230323]\n",
            " [ -50.30112205   27.76612239]\n",
            " [-154.8224396   -36.95120431]\n",
            " [-105.1634986  -147.49810344]\n",
            " [-135.29253781  -85.96316243]\n",
            " [   2.21086429   20.04337323]\n",
            " [  29.25445032  -40.69582067]\n",
            " [  -1.39398537  -13.06201179]\n",
            " [  25.33951484   24.21305557]\n",
            " [-105.36481229  -44.68792437]\n",
            " [ -40.45767561 -108.06766851]\n",
            " [  49.34349338   18.13110957]\n",
            " [ -66.12804645 -115.05270347]\n",
            " [  -9.80434574  -59.49340274]\n",
            " [-141.01430334 -116.91213564]\n",
            " [  58.90585515   13.60707317]\n",
            " [ -62.94280721 -137.19351851]\n",
            " [ -77.17741126 -119.22322267]\n",
            " [ -41.72802697  -23.10560528]\n",
            " [  48.4974944   -34.66543264]\n",
            " [ -83.31845199 -104.06177189]\n",
            " [  27.07195532  -10.2207521 ]\n",
            " [-175.90140694  -76.66390042]\n",
            " [  -7.59636366   59.73735285]\n",
            " [-135.29253781  -85.96316243]\n",
            " [ -82.1225688   -44.67422118]\n",
            " [  24.13728973  -36.09955748]\n",
            " [  22.19585366  -15.20536977]\n",
            " [-102.51492506 -105.4413503 ]\n",
            " [-105.30079543  -90.80544683]\n",
            " [ -14.60671914  -29.70056565]\n",
            " [ -20.8053933    51.38514534]\n",
            " [  35.94178499   13.18630301]\n",
            " [ -83.31845199 -104.06177189]\n",
            " [ -16.23017345   45.01292559]\n",
            " [ -68.46169527 -159.35241569]\n",
            " [-118.80825514  -93.36064528]\n",
            " [-126.42215732 -100.61945854]\n",
            " [-103.56048495  -88.38851286]\n",
            " [  -8.71437139    3.9880232 ]\n",
            " [ -82.1225688   -44.67422118]\n",
            " [-100.04987941  -48.74137982]\n",
            " [ -94.91051111  -39.66572002]\n",
            " [-104.15767303 -140.54465461]\n",
            " [  75.14996559   32.04235728]\n",
            " [  54.69262875  -28.92827946]\n",
            " [ -83.26024382  -60.11930787]\n",
            " [  -6.09526311    9.28856996]\n",
            " [ -51.41855904 -172.44399972]\n",
            " [   6.61820392   -1.39475196]\n",
            " [  73.51687727   49.51455265]\n",
            " [  -8.14650313   49.90187543]\n",
            " [ -65.48055906   50.92966949]\n",
            " [ -76.97738125  -87.4704555 ]\n",
            " [-125.27899901  -90.68493315]\n",
            " [  25.33951484   24.21305557]\n",
            " [-151.48770464 -120.45446641]\n",
            " [ -51.29006684  -96.29211718]\n",
            " [  -8.14650313   49.90187543]\n",
            " [ -94.79520142 -138.44352063]\n",
            " [ -82.1225688   -44.67422118]\n",
            " [-108.8790802  -148.62206214]\n",
            " [-100.69903363  -65.57739923]\n",
            " [ 139.0197066    71.87494257]\n",
            " [ 141.74042275   49.25956759]\n",
            " [ -71.85288263  -87.53724341]\n",
            " [ 102.69313641  113.10229932]\n",
            " [  61.56577347   78.50648875]\n",
            " [-118.80825514  -93.36064528]\n",
            " [ -33.03669554   19.96837165]\n",
            " [  29.25445032  -40.69582067]\n",
            " [  -7.59636366   59.73735285]\n",
            " [ 104.66170842   97.74371277]\n",
            " [-151.48770464 -120.45446641]\n",
            " [ -42.90840322  -33.76012057]\n",
            " [  73.51687727   49.51455265]\n",
            " [   0.50258687   59.10242862]\n",
            " [ 165.79951722  106.38718221]\n",
            " [  76.19666689   79.90846717]\n",
            " [  -4.7719018    67.68795234]\n",
            " [-175.90140694  -76.66390042]\n",
            " [  38.8275811   -42.67798821]\n",
            " [  98.87669949  114.63048916]\n",
            " [ 121.77433928  148.79322026]\n",
            " [ -62.94280721 -137.19351851]\n",
            " [   0.50258687   59.10242862]\n",
            " [ 112.67930413  104.25719636]\n",
            " [  55.39760055  -10.58425432]\n",
            " [ 139.62067339  103.84101829]\n",
            " [  43.38626869   68.90596994]\n",
            " [ 120.3369379    81.04745565]\n",
            " [-143.73153629  -79.53473834]\n",
            " [  38.16714166   23.61429981]\n",
            " [  55.39760055  -10.58425432]\n",
            " [ 138.66772952   91.06149051]\n",
            " [  69.22176172   58.89359017]\n",
            " [-105.44380244 -117.60398738]\n",
            " [ -16.40013403  -22.02636686]\n",
            " [ 114.18674342  126.06241886]\n",
            " [ -71.50993198 -155.16746826]\n",
            " [ -31.91100939   -0.27230323]\n",
            " [-144.42406778  -78.76884293]\n",
            " [  79.18790616  140.99418496]\n",
            " [ -19.41751634 -107.45509701]\n",
            " [  69.22176172   58.89359017]\n",
            " [-118.80825514  -93.36064528]\n",
            " [  -4.04389516    3.31778253]\n",
            " [  69.83344929   93.5482088 ]\n",
            " [ 141.74042275   49.25956759]\n",
            " [-113.43215738  -85.47791987]\n",
            " [-101.97414214  -98.20556848]\n",
            " [  49.42893785  -23.85566505]\n",
            " [-116.71545875  -70.86951678]\n",
            " [ 106.05363381   75.30897267]\n",
            " [  44.65843603  -18.10014732]\n",
            " [  77.14260884   46.03006642]\n",
            " [  57.30292629  -31.83612085]\n",
            " [ -83.26024382  -60.11930787]\n",
            " [  12.96997844  110.82162162]\n",
            " [ 102.69313641  113.10229932]\n",
            " [ -66.12804645 -115.05270347]\n",
            " [  43.38626869   68.90596994]\n",
            " [ -58.51155363  -82.36011989]]\n"
          ],
          "name": "stdout"
        }
      ]
    },
    {
      "cell_type": "code",
      "metadata": {
        "colab": {
          "base_uri": "https://localhost:8080/",
          "height": 315
        },
        "id": "jG1e7-hOkmdl",
        "outputId": "d69056e1-d710-47ee-8b2c-c7c58a86b0ce"
      },
      "source": [
        "# Number of clusters\n",
        "k = 3\n",
        "# Number of training data\n",
        "n = data.shape[0]\n",
        "# # Number of features in the data\n",
        "c = data.shape[1]\n",
        "\n",
        "# Generate random centers, here we use sigma and mean to ensure it represent the whole data\n",
        "mean = np.mean(data2, axis = 0)\n",
        "std = np.std(data2, axis = 0)\n",
        "centers = np.random.randn(k,c)*std + mean\n",
        "\n",
        "# Static data to test\n",
        "centers = np.random.uniform(minval, maxval, size=(k,col))\n",
        "print(centers)\n",
        "\n",
        "\n",
        "# Plot the data and the centers generated as random\n",
        "# colors = np.random.rand(k,col)\n",
        "colors = []\n",
        "for i in range(k):\n",
        "  rgb = (random.random(), random.random(), random.random())\n",
        "  colors.append(rgb)\n",
        "\n",
        "for i in range(n):\n",
        "    plt.scatter(data[i, 0], data[i,1], s=7)\n",
        "#plt.scatter(centers[:,0], centers[:,1], marker='*', c='g', s=150)"
      ],
      "execution_count": null,
      "outputs": [
        {
          "output_type": "stream",
          "text": [
            "[[ 59.82249642  35.14787866]\n",
            " [  8.88939142 -89.88977172]\n",
            " [ -7.6421102   68.66129762]]\n"
          ],
          "name": "stdout"
        },
        {
          "output_type": "display_data",
          "data": {
            "image/png": "[encoded data removed]",
            "text/plain": [
              "<Figure size 432x288 with 1 Axes>"
            ]
          },
          "metadata": {
            "tags": [],
            "needs_background": "light"
          }
        }
      ]
    },
    {
      "cell_type": "code",
      "metadata": {
        "id": "8EmiHropkmdm"
      },
      "source": [
        "def point_centroid_distances(point, centroids):\n",
        "\n",
        "    xval = [point[0]]\n",
        "    for i in range(k):\n",
        "      xval.append(centroids[i][0])\n",
        "    yval = [point[1]]\n",
        "    for i in range(k):\n",
        "      yval.append(centroids[i][1])\n",
        "\n",
        "    # Calculating theta and phi values\n",
        "    phi_list = [((x + 1) * pi / 2) for x in xval]\n",
        "    theta_list = [((x + 1) * pi / 2) for x in yval]\n",
        "\n",
        "    # print(phi_list,theta_list)\n",
        "\n",
        "    # Create a 2 qubit QuantumRegister - two for the vectors, and \n",
        "    # one for the ancillary qubit\n",
        "    qreg = QuantumRegister(3, 'qreg')\n",
        "\n",
        "    # Create a one bit ClassicalRegister to hold the result\n",
        "    # of the measurements\n",
        "    creg = ClassicalRegister(1, 'creg')\n",
        "\n",
        "    qc = QuantumCircuit(qreg, creg, name='qc')\n",
        "\n",
        "    # Get backend using the Aer provider\n",
        "    backend = Aer.get_backend('qasm_simulator')\n",
        "\n",
        "    # Create list to hold the results\n",
        "    results_list = []\n",
        "\n",
        "    # Estimating distances from the new point to the centroids\n",
        "    for i in range(1, k+1):\n",
        "        # Apply a Hadamard to the ancillary\n",
        "        qc.h(qreg[2])\n",
        "\n",
        "        # Encode new point and centroid\n",
        "        qc.u3(theta_list[0], phi_list[0], 0, qreg[0])           \n",
        "        qc.u3(theta_list[i], phi_list[i], 0, qreg[1]) \n",
        "\n",
        "        # Perform controlled swap\n",
        "        qc.cswap(qreg[2], qreg[0], qreg[1])\n",
        "        # Apply second Hadamard to ancillary\n",
        "        qc.h(qreg[2])\n",
        "\n",
        "        # Measure ancillary\n",
        "        qc.measure(qreg[2], creg[0])\n",
        "\n",
        "        # Reset qubits\n",
        "        qc.reset(qreg)\n",
        "\n",
        "        # Register and execute job\n",
        "        job = execute(qc, backend=backend, shots=256)\n",
        "        result = job.result().get_counts(qc)\n",
        "        try:\n",
        "            results_list.append(result['1'])\n",
        "        except:\n",
        "            results_list.append(0)\n",
        "\n",
        "    return results_list"
      ],
      "execution_count": null,
      "outputs": []
    },
    {
      "cell_type": "code",
      "metadata": {
        "id": "qNa10cdXEasg"
      },
      "source": [
        "def point_centroid_distance2(point, centers):\n",
        "  dists = []\n",
        "  \n",
        "  for i in range(len(centers)):\n",
        "      dists.append(np.linalg.norm(point - centers[i, 0]))\n",
        "  \n",
        "  return dists"
      ],
      "execution_count": null,
      "outputs": []
    },
    {
      "cell_type": "code",
      "metadata": {
        "colab": {
          "base_uri": "https://localhost:8080/",
          "height": 1000
        },
        "id": "bgtMwuweyPBn",
        "outputId": "e4237432-6c4d-459d-eb09-7ca98c14a263"
      },
      "source": [
        "centers = np.random.uniform(-1, 1, size=(k,col))\n",
        "print(centers)\n",
        "\n",
        "centers_old = np.zeros(centers.shape) # to store old centers\n",
        "centers_new = deepcopy(centers) # Store new centers\n",
        "\n",
        "data.shape\n",
        "clusters = np.zeros(n)\n",
        "distances = np.zeros((n,k))\n",
        "\n",
        "error = np.linalg.norm(centers_new - centers_old)\n",
        "upper_error = error + 1\n",
        "\n",
        "colors = [(1,0,0), (0, 1, 0), (0,0, 1)]\n",
        "from sklearn.preprocessing import MinMaxScaler\n",
        "scaler = MinMaxScaler(feature_range = (-1, 1))\n",
        "data_norm = scaler.fit_transform(data)\n",
        "\n",
        "iter_counter = 1\n",
        "# When, after an update, the estimate of that center stays the same, exit loop\n",
        "while abs(error - upper_error) > 0.02:\n",
        "\n",
        "    # Measure the distance to every center\n",
        "    \n",
        "    distances = np.zeros((data_norm.shape[0], len(centers)))\n",
        "    for i in range(n):\n",
        "      distances[i] = point_centroid_distance2(data_norm[i], centers)\n",
        "    #distances = np.array(list(map(lambda x: point_centroid_distance2(x, centers), data_norm)))\n",
        "    #print(distances)\n",
        "    # Assign all training data to closest center\n",
        "    clusters = np.argmin(distances, axis = 1)\n",
        "    #print(clusters)\n",
        "    centers_old = deepcopy(centers_new)\n",
        "    # Calculate mean for every cluster and update the center\n",
        "    for i in range(k):\n",
        "        centers_new[i] = np.mean(data_norm[clusters == i], axis=0)\n",
        "    upper_error = deepcopy(error)\n",
        "    error = np.linalg.norm(centers_new - centers_old)\n",
        "    \n",
        "    for i in range(len(centers)):\n",
        "      plt.scatter(data_norm[:, 0][clusters == i], data_norm[:,1][clusters==i], s=7, color = colors[i])\n",
        "    print(centers)\n",
        "    for i in range(len(centers)):\n",
        "      plt.scatter([centers[i,0]], [centers[i,1]], marker='*', color =colors[i], s=150)\n",
        "    plot_title = 'Iteration number '+str(iter_counter)\n",
        "    plt.title(plot_title)\n",
        "    plt.show()\n",
        "    iter_counter += 1\n",
        "    centers = centers_new\n",
        "\n",
        "    print(error, upper_error)\n",
        "    \n",
        "    if error < 0.02:\n",
        "        break\n",
        "print(centers_new)"
      ],
      "execution_count": null,
      "outputs": [
        {
          "output_type": "stream",
          "text": [
            "[[-0.24301429 -0.70178635]\n",
            " [ 0.33733589 -0.45882047]\n",
            " [-0.07472879 -0.05557654]]\n",
            "[[-0.24301429 -0.70178635]\n",
            " [ 0.33733589 -0.45882047]\n",
            " [-0.07472879 -0.05557654]]\n"
          ],
          "name": "stdout"
        },
        {
          "output_type": "display_data",
          "data": {
            "image/png": "[encoded data removed]",
            "text/plain": [
              "<Figure size 432x288 with 1 Axes>"
            ]
          },
          "metadata": {
            "tags": [],
            "needs_background": "light"
          }
        },
        {
          "output_type": "stream",
          "text": [
            "0.9169105997398291 0.9405024673649972\n",
            "[[-0.46042528 -0.56349225]\n",
            " [ 0.47907861  0.51387397]\n",
            " [ 0.09688541  0.03964042]]\n"
          ],
          "name": "stdout"
        },
        {
          "output_type": "display_data",
          "data": {
            "image/png": "[encoded data removed]",
            "text/plain": [
              "<Figure size 432x288 with 1 Axes>"
            ]
          },
          "metadata": {
            "tags": [],
            "needs_background": "light"
          }
        },
        {
          "output_type": "stream",
          "text": [
            "0.14585375007571136 0.9169105997398291\n",
            "[[-0.46042528 -0.56349225]\n",
            " [ 0.61299248  0.60331969]\n",
            " [ 0.11563807  0.09595666]]\n"
          ],
          "name": "stdout"
        },
        {
          "output_type": "display_data",
          "data": {
            "image/png": "[encoded data removed]",
            "text/plain": [
              "<Figure size 432x288 with 1 Axes>"
            ]
          },
          "metadata": {
            "tags": [],
            "needs_background": "light"
          }
        },
        {
          "output_type": "stream",
          "text": [
            "0.17162938272879816 0.14585375007571136\n",
            "[[-0.46042528 -0.56349225]\n",
            " [ 0.61299248  0.60331969]\n",
            " [ 0.11563807  0.09595666]]\n"
          ],
          "name": "stdout"
        },
        {
          "output_type": "display_data",
          "data": {
            "image/png": "[encoded data removed]",
            "text/plain": [
              "<Figure size 432x288 with 1 Axes>"
            ]
          },
          "metadata": {
            "tags": [],
            "needs_background": "light"
          }
        },
        {
          "output_type": "stream",
          "text": [
            "0.0 0.17162938272879816\n",
            "[[-0.46042528 -0.56349225]\n",
            " [ 0.61299248  0.60331969]\n",
            " [ 0.11563807  0.09595666]]\n"
          ],
          "name": "stdout"
        }
      ]
    },
    {
      "cell_type": "markdown",
      "metadata": {
        "id": "vCurQeM_yBnU"
      },
      "source": [
        "###Cluster Analysis"
      ]
    },
    {
      "cell_type": "code",
      "metadata": {
        "id": "zYHpyQOD9QEn",
        "colab": {
          "base_uri": "https://localhost:8080/"
        },
        "outputId": "ad9928b2-bedd-46df-8006-7e4674330b15"
      },
      "source": [
        "## Cluster Quality\n",
        "# centers_new is our centroids\n",
        "dists = []\n",
        "for i in range(k):\n",
        "  center = centers_new[i]\n",
        "  select = clusters == i\n",
        "  select_data = data_norm[select]\n",
        "  #print(select_data, center)\n",
        "  print(select_data.shape)\n",
        "  difference = select_data - center\n",
        "  diff = 0\n",
        "  for i in range(difference.shape[0]):\n",
        "    norms = np.linalg.norm(difference[i,:])\n",
        "    diff += norms\n",
        "\n",
        "  dists.append(diff / difference.shape[0])\n",
        "print(dists)"
      ],
      "execution_count": null,
      "outputs": [
        {
          "output_type": "stream",
          "text": [
            "(207, 2)\n",
            "(28, 2)\n",
            "(65, 2)\n",
            "[0.24313656824892046, 0.25053487643811, 0.24545449963208663]\n"
          ],
          "name": "stdout"
        }
      ]
    },
    {
      "cell_type": "code",
      "metadata": {
        "colab": {
          "base_uri": "https://localhost:8080/",
          "height": 298
        },
        "id": "O0tkWpKGd1yG",
        "outputId": "3921f905-6b4c-48c4-ef61-c229d73e7a5d"
      },
      "source": [
        "import seaborn as sns\n",
        "print(dists)\n",
        "\n",
        "sns.barplot(x = list(range(k)), y = dists)\n",
        "plt.title(\"Average Distance from Cluster\")\n",
        "plt.show()"
      ],
      "execution_count": null,
      "outputs": [
        {
          "output_type": "stream",
          "text": [
            "[0.24313656824892046, 0.25053487643811, 0.24545449963208663]\n"
          ],
          "name": "stdout"
        },
        {
          "output_type": "display_data",
          "data": {
            "image/png": "[encoded data removed]",
            "text/plain": [
              "<Figure size 432x288 with 1 Axes>"
            ]
          },
          "metadata": {
            "tags": [],
            "needs_background": "light"
          }
        }
      ]
    }
  ]
}